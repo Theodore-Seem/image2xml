{
 "cells": [
  {
   "cell_type": "code",
   "execution_count": 1,
   "metadata": {},
   "outputs": [
    {
     "name": "stderr",
     "output_type": "stream",
     "text": [
      "Using TensorFlow backend.\n"
     ]
    }
   ],
   "source": [
    "from os import listdir\n",
    "from numpy import array\n",
    "from keras.preprocessing.text import Tokenizer, one_hot\n",
    "from keras.preprocessing.sequence import pad_sequences\n",
    "from keras.models import Model, Sequential, model_from_json\n",
    "from keras.utils import to_categorical\n",
    "from keras.layers.core import Dense, Dropout, Flatten\n",
    "from keras.optimizers import RMSprop\n",
    "from keras.layers.convolutional import Conv2D\n",
    "from keras.callbacks import ModelCheckpoint\n",
    "from keras.layers import Embedding, TimeDistributed, RepeatVector, LSTM, concatenate , Input, Reshape, Dense\n",
    "from keras.preprocessing.image import array_to_img, img_to_array, load_img\n",
    "import numpy as np"
   ]
  },
  {
   "cell_type": "code",
   "execution_count": 5,
   "metadata": {},
   "outputs": [
    {
     "name": "stdout",
     "output_type": "stream",
     "text": [
      "KT Anna Skirt-FT.png\n",
      "KT Anna Skirt-FT.val\n",
      "KT Anna Skirt-PKT.png\n",
      "KT Anna Skirt-PKT.val\n",
      "KT Anna Skirt-WB-X.png\n",
      "KT Anna Skirt-WB-X.val\n",
      "KT Anna Skirt-WB.png\n",
      "KT Anna Skirt-WB.val\n",
      "KT Jojo Sweatshirt-BK.png\n",
      "KT Jojo Sweatshirt-BK.val\n",
      "KT Jojo Sweatshirt-FT.png\n",
      "KT Jojo Sweatshirt-FT.val\n",
      "KT Jojo Sweatshirt-NKBND.png\n",
      "KT Jojo Sweatshirt-NKBND.val\n",
      "KT Jojo Sweatshirt-PKT.png\n",
      "KT Jojo Sweatshirt-PKT.val\n",
      "KT Jojo Sweatshirt-SLV.png\n",
      "KT Jojo Sweatshirt-SLV.val\n",
      "KT Olivia Skirt-BK.png\n",
      "KT Olivia Skirt-BK.val\n",
      "KT Olivia Skirt-FT.png\n",
      "KT Olivia Skirt-FT.val\n",
      "KT Rumi Sweatshirt-Cuff.png\n",
      "KT Rumi Sweatshirt-Cuff.val\n",
      "KT Rumi Sweatshirt-NKBDG.png\n",
      "KT Rumi Sweatshirt-NKBDG.val\n",
      "KT Rumi Sweatshirt-NKBND.png\n",
      "KT Rumi Sweatshirt-NKBND.val\n",
      "KT Rumi Sweatshirt-SLV.png\n",
      "KT Rumi Sweatshirt-SLV.val\n",
      "KT Rumi Sweatshirt-WB.png\n",
      "KT Rumi Sweatshirt-WB.val\n",
      "KT longsleeve crew neck-FT.png\n",
      "KT longsleeve crew neck-FT.val\n",
      "KT longsleeve crew neck-SLV.png\n",
      "KT longsleeve crew neck-SLV.val\n"
     ]
    }
   ],
   "source": [
    "XML_dir_name = '../Spline_Out/XML/'\n",
    "images_dir_name = '../Spline_Out/Pics/'\n",
    "\n",
    "# Read a file and return a string\n",
    "def load_doc(filename):\n",
    "    file = open(filename, 'r')\n",
    "    text = file.read()\n",
    "    file.close()\n",
    "    return text\n",
    "\n",
    "def load_data(vocab_data_dir, images_data_dir):\n",
    "    text = []\n",
    "    images = []\n",
    "    # Load all the files and order them\n",
    "    XML_filenames = listdir(vocab_data_dir)\n",
    "    images_filenames = listdir(images_data_dir)\n",
    "    imagesAndXML = images_filenames + XML_filenames\n",
    "    imagesAndXML.sort()\n",
    "    imagesAndXML.remove('.DS_Store')\n",
    "    imagesAndXML.remove('.DS_Store')\n",
    "    imagesAndXML.remove('.ipynb_checkpoints')\n",
    "    imagesAndXML.remove('.ipynb_checkpoints')\n",
    "    for f in imagesAndXML:\n",
    "        print(f)\n",
    "    for filename in (imagesAndXML):\n",
    "        if filename[-3:] == \"png\":\n",
    "            # Load the images and prepare into Numpy arrays\n",
    "            image = img_to_array(load_img(images_data_dir+filename, target_size=(256, 256)))\n",
    "            images.append(image)\n",
    "        else:\n",
    "            # Load the boostrap tokens and rap them in a start and end tag\n",
    "            syntax = '<START> ' + load_doc(vocab_data_dir+filename) + ' <END>'\n",
    "            # Seperate all the words with a single space\n",
    "            syntax = ' '.join(syntax.split())\n",
    "            # Add a space after each comma\n",
    "            syntax = syntax.replace(',', ' ,')\n",
    "            text.append(syntax)\n",
    "    images = np.array(images, dtype=float)\n",
    "    return images, text\n",
    "\n",
    "train_features, texts = load_data(XML_dir_name, images_dir_name)"
   ]
  },
  {
   "cell_type": "code",
   "execution_count": 14,
   "metadata": {},
   "outputs": [],
   "source": [
    "# We will cap each input sequence to 100 tokens\n",
    "max_caption_len = 100\n",
    "# Initialize the function that will create our vocabulary \n",
    "tokenizer = Tokenizer(filters='', split=\" \", lower=False)\n",
    "\n",
    "# Read a document and return a string\n",
    "def load_doc(filename):\n",
    "    file = open(filename, 'r')\n",
    "    text = file.read()\n",
    "    file.close()\n",
    "    return text\n",
    "\n",
    "# Load all the HTML files\n",
    "X = []\n",
    "all_filenames = listdir('../Spline_Out/XML/')\n",
    "all_filenames.sort()\n",
    "all_filenames.remove('.DS_Store')\n",
    "all_filenames.remove('.ipynb_checkpoints')\n",
    "for filename in all_filenames:\n",
    "    X.append(load_doc('../Spline_Out/XML/'+filename))\n",
    "\n",
    "# Create the vocabulary from the html files\n",
    "tokenizer.fit_on_texts(X)\n",
    "\n",
    "# Add +1 to leave space for empty words\n",
    "vocab_size = len(tokenizer.word_index) + 1\n",
    "# Translate each word in text file to the matching vocabulary index\n",
    "train_sequences = tokenizer.texts_to_sequences(X)\n",
    "# The longest set of boostrap tokens\n",
    "max_sequence = max(len(s) for s in train_sequences)\n",
    "# The longest XML file\n",
    "max_length = max(len(s) for s in sequences)\n",
    "\n",
    "\n",
    "def preprocess_data(sequences, features):\n",
    "    X, y, image_data = list(), list(), list()\n",
    "    for img_no, seq in enumerate(sequences):\n",
    "        for i in range(1, len(seq)):\n",
    "            # Add the sentence until the current count(i) and add the current count to the output\n",
    "            in_seq, out_seq = seq[:i], seq[i]\n",
    "            # Pad all the input token sentences to max_sequence\n",
    "            in_seq = pad_sequences([in_seq], maxlen=max_sequence)[0]\n",
    "            # Turn the output into one-hot encoding\n",
    "            out_seq = to_categorical([out_seq], num_classes=vocab_size)[0]\n",
    "            # Add the corresponding image to the boostrap token file\n",
    "            image_data.append(features[img_no])\n",
    "            # Cap the input sentence to 48 tokens and add it\n",
    "            X.append(in_seq[-806:])\n",
    "            y.append(out_seq)\n",
    "    return np.array(X), np.array(y), np.array(image_data)\n",
    "\n",
    "X, y, image_data = preprocess_data(train_sequences, train_features)"
   ]
  },
  {
   "cell_type": "code",
   "execution_count": 16,
   "metadata": {},
   "outputs": [
    {
     "name": "stdout",
     "output_type": "stream",
     "text": [
      "(6089, 256, 256, 3)\n",
      "(6089, 806)\n",
      "(6089, 682)\n"
     ]
    }
   ],
   "source": [
    "print(image_data.shape)\n",
    "print(X.shape)\n",
    "print(y.shape)"
   ]
  },
  {
   "cell_type": "code",
   "execution_count": 17,
   "metadata": {},
   "outputs": [
    {
     "name": "stdout",
     "output_type": "stream",
     "text": [
      "__________________________________________________________________________________________________\n",
      "Layer (type)                    Output Shape         Param #     Connected to                     \n",
      "==================================================================================================\n",
      "input_8 (InputLayer)            (None, 806)          0                                            \n",
      "__________________________________________________________________________________________________\n",
      "embedding_4 (Embedding)         (None, 806, 50)      34100       input_8[0][0]                    \n",
      "__________________________________________________________________________________________________\n",
      "input_7 (InputLayer)            (None, 256, 256, 3)  0                                            \n",
      "__________________________________________________________________________________________________\n",
      "lstm_13 (LSTM)                  (None, 806, 128)     91648       embedding_4[0][0]                \n",
      "__________________________________________________________________________________________________\n",
      "sequential_4 (Sequential)       (None, 806, 1024)    135414288   input_7[0][0]                    \n",
      "__________________________________________________________________________________________________\n",
      "lstm_14 (LSTM)                  (None, 806, 128)     131584      lstm_13[0][0]                    \n",
      "__________________________________________________________________________________________________\n",
      "concatenate_4 (Concatenate)     (None, 806, 1152)    0           sequential_4[1][0]               \n",
      "                                                                 lstm_14[0][0]                    \n",
      "__________________________________________________________________________________________________\n",
      "lstm_15 (LSTM)                  (None, 806, 512)     3409920     concatenate_4[0][0]              \n",
      "__________________________________________________________________________________________________\n",
      "lstm_16 (LSTM)                  (None, 512)          2099200     lstm_15[0][0]                    \n",
      "__________________________________________________________________________________________________\n",
      "dense_12 (Dense)                (None, 682)          349866      lstm_16[0][0]                    \n",
      "==================================================================================================\n",
      "Total params: 141,530,606\n",
      "Trainable params: 141,530,606\n",
      "Non-trainable params: 0\n",
      "__________________________________________________________________________________________________\n"
     ]
    }
   ],
   "source": [
    "#Create the encoder\n",
    "image_model = Sequential()\n",
    "image_model.add(Conv2D(16, (3, 3), padding='valid', activation='relu', input_shape=(256, 256, 3,)))\n",
    "image_model.add(Conv2D(16, (3,3), activation='relu', padding='same', strides=2))\n",
    "image_model.add(Conv2D(32, (3,3), activation='relu', padding='same'))\n",
    "image_model.add(Conv2D(32, (3,3), activation='relu', padding='same', strides=2))\n",
    "image_model.add(Conv2D(64, (3,3), activation='relu', padding='same'))\n",
    "image_model.add(Conv2D(64, (3,3), activation='relu', padding='same', strides=2))\n",
    "image_model.add(Conv2D(128, (3,3), activation='relu', padding='same'))\n",
    "\n",
    "image_model.add(Flatten())\n",
    "image_model.add(Dense(1024, activation='relu'))\n",
    "image_model.add(Dropout(0.3))\n",
    "image_model.add(Dense(1024, activation='relu'))\n",
    "image_model.add(Dropout(0.3))\n",
    "\n",
    "image_model.add(RepeatVector(max_length))\n",
    "\n",
    "visual_input = Input(shape=(256, 256, 3,))\n",
    "encoded_image = image_model(visual_input)\n",
    "\n",
    "language_input = Input(shape=(max_length,))\n",
    "language_model = Embedding(vocab_size, 50, input_length=max_length, mask_zero=True)(language_input)\n",
    "language_model = LSTM(128, return_sequences=True)(language_model)\n",
    "language_model = LSTM(128, return_sequences=True)(language_model)\n",
    "\n",
    "#Create the decoder\n",
    "decoder = concatenate([encoded_image, language_model])\n",
    "decoder = LSTM(512, return_sequences=True)(decoder)\n",
    "decoder = LSTM(512, return_sequences=False)(decoder)\n",
    "decoder = Dense(vocab_size, activation='softmax')(decoder)\n",
    "\n",
    "# Compile the model\n",
    "model = Model(inputs=[visual_input, language_input], outputs=decoder)\n",
    "optimizer = RMSprop(lr=0.0001, clipvalue=1.0)\n",
    "model.compile(loss='categorical_crossentropy', optimizer=optimizer)\n",
    "\n",
    "model.summary()"
   ]
  },
  {
   "cell_type": "code",
   "execution_count": 18,
   "metadata": {
    "collapsed": true
   },
   "outputs": [],
   "source": [
    "#Save the model for every 2nd epoch\n",
    "filepath=\"org-weights-epoch-{epoch:04d}--val_loss-{val_loss:.4f}--loss-{loss:.4f}.hdf5\"\n",
    "checkpoint = ModelCheckpoint(filepath, monitor='val_loss', verbose=1, save_weights_only=True, period=20)\n",
    "callbacks_list = [checkpoint]"
   ]
  },
  {
   "cell_type": "code",
   "execution_count": null,
   "metadata": {},
   "outputs": [
    {
     "name": "stdout",
     "output_type": "stream",
     "text": [
      "Train on 5480 samples, validate on 609 samples\n",
      "Epoch 1/50\n"
     ]
    }
   ],
   "source": [
    "# Train the model\n",
    "model.fit([image_data, X], y, batch_size=64, shuffle=False, validation_split=0.1, callbacks=callbacks_list, verbose=1, epochs=50)"
   ]
  },
  {
   "cell_type": "code",
   "execution_count": null,
   "metadata": {
    "collapsed": true
   },
   "outputs": [],
   "source": []
  }
 ],
 "metadata": {
  "kernelspec": {
   "display_name": "conda_python3",
   "language": "python",
   "name": "conda_python3"
  },
  "language_info": {
   "codemirror_mode": {
    "name": "ipython",
    "version": 3
   },
   "file_extension": ".py",
   "mimetype": "text/x-python",
   "name": "python",
   "nbconvert_exporter": "python",
   "pygments_lexer": "ipython3",
   "version": "3.6.2"
  }
 },
 "nbformat": 4,
 "nbformat_minor": 2
}
